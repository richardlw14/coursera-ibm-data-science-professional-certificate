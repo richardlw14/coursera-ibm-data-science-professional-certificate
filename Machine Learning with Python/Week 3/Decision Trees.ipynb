{
  "metadata": {
    "language_info": {
      "codemirror_mode": {
        "name": "python",
        "version": 3
      },
      "file_extension": ".py",
      "mimetype": "text/x-python",
      "name": "python",
      "nbconvert_exporter": "python",
      "pygments_lexer": "ipython3",
      "version": "3.8"
    },
    "kernelspec": {
      "name": "python",
      "display_name": "Python (Pyodide)",
      "language": "python"
    }
  },
  "nbformat_minor": 4,
  "nbformat": 4,
  "cells": [
    {
      "cell_type": "markdown",
      "source": "<p style=\"text-align:center\">\n    <a href=\"https://skills.network/?utm_medium=Exinfluencer&utm_source=Exinfluencer&utm_content=000026UJ&utm_term=10006555&utm_id=NA-SkillsNetwork-Channel-SkillsNetworkCoursesIBMDeveloperSkillsNetworkML0101ENSkillsNetwork1047-2023-01-01\">\n    <img src=\"https://cf-courses-data.s3.us.cloud-object-storage.appdomain.cloud/assets/logos/SN_web_lightmode.png\" width=\"200\" alt=\"Skills Network Logo\"  />\n    </a>\n</p>\n\n\n# Decision Trees\n\n\nEstimated time needed: **15** minutes\n    \n\n## Objectives\n\nAfter completing this lab you will be able to:\n\n* Develop a classification model using Decision Tree Algorithm\n",
      "metadata": {}
    },
    {
      "cell_type": "markdown",
      "source": "In this lab exercise, you will learn a popular machine learning algorithm, Decision Trees. You will use this classification algorithm to build a model from the historical data of patients, and their response to different medications. Then you will use the trained decision tree to predict the class of an unknown patient, or to find a proper drug for a new patient.\n",
      "metadata": {}
    },
    {
      "cell_type": "markdown",
      "source": "<h1>Table of contents</h1>\n\n<div class=\"alert alert-block alert-info\" style=\"margin-top: 20px\">\n    <ol>\n        <li><a href=\"#about_dataset\">About the dataset</a></li>\n        <li><a href=\"#downloading_data\">Downloading the Data</a></li>\n        <li><a href=\"#pre-processing\">Pre-processing</a></li>\n        <li><a href=\"#setting_up_tree\">Setting up the Decision Tree</a></li>\n        <li><a href=\"#modeling\">Modeling</a></li>\n        <li><a href=\"#prediction\">Prediction</a></li>\n        <li><a href=\"#evaluation\">Evaluation</a></li>\n        <li><a href=\"#visualization\">Visualization</a></li>\n    </ol>\n</div>\n<br>\n<hr>\n",
      "metadata": {}
    },
    {
      "cell_type": "markdown",
      "source": "Import the Following Libraries:\n<ul>\n    <li> <b>numpy (as np)</b> </li>\n    <li> <b>pandas</b> </li>\n    <li> <b>DecisionTreeClassifier</b> from <b>sklearn.tree</b> </li>\n</ul>\n",
      "metadata": {}
    },
    {
      "cell_type": "markdown",
      "source": "if you uisng you own version comment out\n",
      "metadata": {}
    },
    {
      "cell_type": "code",
      "source": "import piplite\nawait piplite.install(['pandas'])\nawait piplite.install(['matplotlib'])\nawait piplite.install(['numpy'])\nawait piplite.install(['scikit-learn'])\n\n",
      "metadata": {
        "trusted": true
      },
      "execution_count": 2,
      "outputs": []
    },
    {
      "cell_type": "code",
      "source": "import numpy as np \nimport pandas as pd\nfrom sklearn.tree import DecisionTreeClassifier\nimport sklearn.tree as tree",
      "metadata": {
        "trusted": true
      },
      "execution_count": 3,
      "outputs": []
    },
    {
      "cell_type": "code",
      "source": "from pyodide.http import pyfetch\n\nasync def download(url, filename):\n    response = await pyfetch(url)\n    if response.status == 200:\n        with open(filename, \"wb\") as f:\n            f.write(await response.bytes())",
      "metadata": {
        "trusted": true
      },
      "execution_count": 4,
      "outputs": []
    },
    {
      "cell_type": "markdown",
      "source": "<div id=\"about_dataset\">\n    <h2>About the dataset</h2>\n    Imagine that you are a medical researcher compiling data for a study. You have collected data about a set of patients, all of whom suffered from the same illness. During their course of treatment, each patient responded to one of 5 medications, Drug A, Drug B, Drug c, Drug x and y. \n    <br>\n    <br>\n    Part of your job is to build a model to find out which drug might be appropriate for a future patient with the same illness. The features of this dataset are Age, Sex, Blood Pressure, and the Cholesterol of the patients, and the target is the drug that each patient responded to.\n    <br>\n    <br>\n    It is a sample of multiclass classifier, and you can use the training part of the dataset \n    to build a decision tree, and then use it to predict the class of an unknown patient, or to prescribe a drug to a new patient.\n</div>\n",
      "metadata": {}
    },
    {
      "cell_type": "markdown",
      "source": "<div id=\"downloading_data\"> \n    <h2>Downloading the Data</h2>\n    To download the data, we will use !wget to download it from IBM Object Storage.\n</div>\n",
      "metadata": {}
    },
    {
      "cell_type": "code",
      "source": "path= 'https://cf-courses-data.s3.us.cloud-object-storage.appdomain.cloud/IBMDeveloperSkillsNetwork-ML0101EN-SkillsNetwork/labs/Module%203/data/drug200.csv'\nawait download(path,\"drug200.csv\")\npath=\"drug200.csv\"",
      "metadata": {
        "trusted": true
      },
      "execution_count": 5,
      "outputs": []
    },
    {
      "cell_type": "markdown",
      "source": "__Did you know?__ When it comes to Machine Learning, you will likely be working with large datasets. As a business, where can you host your data? IBM is offering a unique opportunity for businesses, with 10 Tb of IBM Cloud Object Storage: [Sign up now for free](http://cocl.us/ML0101EN-IBM-Offer-CC)\n",
      "metadata": {}
    },
    {
      "cell_type": "markdown",
      "source": "Now, read the data using pandas dataframe:\n",
      "metadata": {}
    },
    {
      "cell_type": "code",
      "source": "my_data = pd.read_csv(\"drug200.csv\", delimiter=\",\")\nmy_data[0:5]",
      "metadata": {
        "trusted": true
      },
      "execution_count": 6,
      "outputs": [
        {
          "execution_count": 6,
          "output_type": "execute_result",
          "data": {
            "text/plain": "   Age Sex      BP Cholesterol  Na_to_K   Drug\n0   23   F    HIGH        HIGH   25.355  drugY\n1   47   M     LOW        HIGH   13.093  drugC\n2   47   M     LOW        HIGH   10.114  drugC\n3   28   F  NORMAL        HIGH    7.798  drugX\n4   61   F     LOW        HIGH   18.043  drugY",
            "text/html": "<div>\n<style scoped>\n    .dataframe tbody tr th:only-of-type {\n        vertical-align: middle;\n    }\n\n    .dataframe tbody tr th {\n        vertical-align: top;\n    }\n\n    .dataframe thead th {\n        text-align: right;\n    }\n</style>\n<table border=\"1\" class=\"dataframe\">\n  <thead>\n    <tr style=\"text-align: right;\">\n      <th></th>\n      <th>Age</th>\n      <th>Sex</th>\n      <th>BP</th>\n      <th>Cholesterol</th>\n      <th>Na_to_K</th>\n      <th>Drug</th>\n    </tr>\n  </thead>\n  <tbody>\n    <tr>\n      <th>0</th>\n      <td>23</td>\n      <td>F</td>\n      <td>HIGH</td>\n      <td>HIGH</td>\n      <td>25.355</td>\n      <td>drugY</td>\n    </tr>\n    <tr>\n      <th>1</th>\n      <td>47</td>\n      <td>M</td>\n      <td>LOW</td>\n      <td>HIGH</td>\n      <td>13.093</td>\n      <td>drugC</td>\n    </tr>\n    <tr>\n      <th>2</th>\n      <td>47</td>\n      <td>M</td>\n      <td>LOW</td>\n      <td>HIGH</td>\n      <td>10.114</td>\n      <td>drugC</td>\n    </tr>\n    <tr>\n      <th>3</th>\n      <td>28</td>\n      <td>F</td>\n      <td>NORMAL</td>\n      <td>HIGH</td>\n      <td>7.798</td>\n      <td>drugX</td>\n    </tr>\n    <tr>\n      <th>4</th>\n      <td>61</td>\n      <td>F</td>\n      <td>LOW</td>\n      <td>HIGH</td>\n      <td>18.043</td>\n      <td>drugY</td>\n    </tr>\n  </tbody>\n</table>\n</div>"
          },
          "metadata": {}
        }
      ]
    },
    {
      "cell_type": "markdown",
      "source": "<div id=\"practice\"> \n    <h3>Practice</h3> \n    What is the size of data? \n</div>\n",
      "metadata": {}
    },
    {
      "cell_type": "code",
      "source": "# write your code here\nmy_data.shape\n\n",
      "metadata": {
        "trusted": true
      },
      "execution_count": 8,
      "outputs": [
        {
          "execution_count": 8,
          "output_type": "execute_result",
          "data": {
            "text/plain": "(200, 6)"
          },
          "metadata": {}
        }
      ]
    },
    {
      "cell_type": "markdown",
      "source": "<details><summary>Click here for the solution</summary>\n\n```python\nmy_data.shape\n\n```\n\n</details>\n\n",
      "metadata": {}
    },
    {
      "cell_type": "markdown",
      "source": "<div href=\"pre-processing\">\n    <h2>Pre-processing</h2>\n</div>\n",
      "metadata": {}
    },
    {
      "cell_type": "markdown",
      "source": "Using <b>my_data</b> as the Drug.csv data read by pandas, declare the following variables: <br>\n\n<ul>\n    <li> <b> X </b> as the <b> Feature Matrix </b> (data of my_data) </li>\n    <li> <b> y </b> as the <b> response vector </b> (target) </li>\n</ul>\n",
      "metadata": {}
    },
    {
      "cell_type": "markdown",
      "source": "Remove the column containing the target name since it doesn't contain numeric values.\n",
      "metadata": {}
    },
    {
      "cell_type": "code",
      "source": "X = my_data[['Age', 'Sex', 'BP', 'Cholesterol', 'Na_to_K']].values\nX[0:5]\n",
      "metadata": {
        "trusted": true
      },
      "execution_count": 9,
      "outputs": [
        {
          "execution_count": 9,
          "output_type": "execute_result",
          "data": {
            "text/plain": "array([[23, 'F', 'HIGH', 'HIGH', 25.355],\n       [47, 'M', 'LOW', 'HIGH', 13.093],\n       [47, 'M', 'LOW', 'HIGH', 10.114],\n       [28, 'F', 'NORMAL', 'HIGH', 7.798],\n       [61, 'F', 'LOW', 'HIGH', 18.043]], dtype=object)"
          },
          "metadata": {}
        }
      ]
    },
    {
      "cell_type": "markdown",
      "source": "As you may figure out, some features in this dataset are categorical, such as __Sex__ or __BP__. Unfortunately, Sklearn Decision Trees does not handle categorical variables. We can still convert these features to numerical values using __LabelEncoder__\nto convert the categorical variable into numerical variables.\n",
      "metadata": {}
    },
    {
      "cell_type": "code",
      "source": "from sklearn import preprocessing\nle_sex = preprocessing.LabelEncoder()\nle_sex.fit(['F','M'])\nX[:,1] = le_sex.transform(X[:,1]) \n\n\nle_BP = preprocessing.LabelEncoder()\nle_BP.fit([ 'LOW', 'NORMAL', 'HIGH'])\nX[:,2] = le_BP.transform(X[:,2])\n\n\nle_Chol = preprocessing.LabelEncoder()\nle_Chol.fit([ 'NORMAL', 'HIGH'])\nX[:,3] = le_Chol.transform(X[:,3]) \n\nX[0:5]\n",
      "metadata": {
        "trusted": true
      },
      "execution_count": 10,
      "outputs": [
        {
          "execution_count": 10,
          "output_type": "execute_result",
          "data": {
            "text/plain": "array([[23, 0, 0, 0, 25.355],\n       [47, 1, 1, 0, 13.093],\n       [47, 1, 1, 0, 10.114],\n       [28, 0, 2, 0, 7.798],\n       [61, 0, 1, 0, 18.043]], dtype=object)"
          },
          "metadata": {}
        }
      ]
    },
    {
      "cell_type": "markdown",
      "source": "Now we can fill the target variable.\n",
      "metadata": {}
    },
    {
      "cell_type": "code",
      "source": "y = my_data[\"Drug\"]\ny[0:5]",
      "metadata": {
        "trusted": true
      },
      "execution_count": 11,
      "outputs": [
        {
          "execution_count": 11,
          "output_type": "execute_result",
          "data": {
            "text/plain": "0    drugY\n1    drugC\n2    drugC\n3    drugX\n4    drugY\nName: Drug, dtype: object"
          },
          "metadata": {}
        }
      ]
    },
    {
      "cell_type": "markdown",
      "source": "<hr>\n\n<div id=\"setting_up_tree\">\n    <h2>Setting up the Decision Tree</h2>\n    We will be using <b>train/test split</b> on our <b>decision tree</b>. Let's import <b>train_test_split</b> from <b>sklearn.cross_validation</b>.\n</div>\n",
      "metadata": {}
    },
    {
      "cell_type": "code",
      "source": "from sklearn.model_selection import train_test_split",
      "metadata": {
        "trusted": true
      },
      "execution_count": 12,
      "outputs": []
    },
    {
      "cell_type": "markdown",
      "source": "Now <b> train_test_split </b> will return 4 different parameters. We will name them:<br>\nX_trainset, X_testset, y_trainset, y_testset <br> <br>\nThe <b> train_test_split </b> will need the parameters: <br>\nX, y, test_size=0.3, and random_state=3. <br> <br>\nThe <b>X</b> and <b>y</b> are the arrays required before the split, the <b>test_size</b> represents the ratio of the testing dataset, and the <b>random_state</b> ensures that we obtain the same splits.\n",
      "metadata": {}
    },
    {
      "cell_type": "code",
      "source": "X_trainset, X_testset, y_trainset, y_testset = train_test_split(X, y, test_size=0.3, random_state=3)",
      "metadata": {
        "trusted": true
      },
      "execution_count": 13,
      "outputs": []
    },
    {
      "cell_type": "markdown",
      "source": "<h3>Practice</h3>\nPrint the shape of X_trainset and y_trainset. Ensure that the dimensions match.\n",
      "metadata": {}
    },
    {
      "cell_type": "code",
      "source": "# your code\nprint(X_trainset)\nprint(y_trainset)\n",
      "metadata": {
        "trusted": true
      },
      "execution_count": 14,
      "outputs": [
        {
          "name": "stdout",
          "text": "[[26 0 0 1 19.161]\n [41 0 2 1 22.905]\n [28 0 2 0 19.675]\n [19 0 0 0 13.313]\n [50 1 2 1 15.79]\n [24 1 2 0 25.786]\n [72 1 1 0 16.31]\n [74 0 1 0 20.942]\n [37 0 1 1 12.006]\n [31 1 0 1 17.069]\n [22 0 2 0 8.607]\n [20 0 2 1 9.281]\n [28 0 1 0 13.127]\n [59 0 2 0 13.884]\n [15 1 0 1 17.206]\n [51 0 1 1 23.003]\n [45 1 1 1 10.017]\n [33 0 1 0 33.486]\n [39 1 0 0 9.664]\n [29 0 0 0 29.45]\n [60 1 2 0 15.171]\n [24 0 0 1 18.457]\n [49 0 2 1 9.381]\n [37 1 1 1 8.968]\n [32 0 0 1 10.292]\n [21 0 0 1 28.632]\n [23 1 2 0 12.26]\n [40 1 0 0 27.826]\n [38 1 1 0 18.295]\n [47 1 1 1 30.568]\n [22 0 0 1 22.818]\n [47 1 0 0 10.403]\n [30 0 2 0 10.443]\n [69 1 1 0 15.478]\n [42 0 0 0 21.036]\n [45 1 1 1 8.37]\n [49 1 0 1 6.269]\n [72 1 1 0 6.769]\n [74 1 1 1 11.939]\n [66 0 2 1 8.107]\n [46 1 2 1 7.285]\n [68 0 2 1 27.05]\n [58 0 0 0 19.416]\n [19 0 0 1 25.969]\n [20 1 0 1 35.639]\n [69 1 1 1 11.455]\n [32 0 0 1 25.974]\n [72 1 0 1 9.677]\n [50 0 2 1 12.295]\n [54 1 2 0 24.658]\n [36 0 0 0 11.198]\n [64 0 1 1 25.741]\n [35 1 1 1 9.17]\n [47 0 1 0 11.767]\n [47 0 1 0 10.067]\n [34 0 0 1 19.199]\n [26 0 1 0 14.16]\n [37 0 0 1 23.091]\n [48 1 0 1 10.446]\n [47 0 2 1 6.683]\n [55 0 0 0 10.977]\n [43 1 1 1 19.368]\n [35 0 0 0 12.894]\n [49 1 1 1 11.014]\n [45 1 1 0 17.951]\n [15 1 2 0 9.084]\n [57 0 2 1 25.893]\n [65 1 0 1 11.34]\n [70 1 0 0 9.849]\n [46 0 0 0 34.686]\n [41 1 0 1 15.156]\n [34 1 0 0 18.703]\n [42 1 0 1 12.766]\n [32 1 0 1 9.445]\n [25 1 2 0 19.011]\n [62 1 1 1 27.183]\n [23 1 0 0 8.011]\n [23 1 2 0 31.686]\n [58 0 1 0 38.247]\n [26 1 1 1 20.909]\n [68 1 0 0 11.009]\n [60 1 0 0 13.934]\n [15 0 0 1 16.725]\n [53 0 0 1 12.495]\n [37 1 1 1 16.724]\n [40 0 2 0 10.103]\n [59 1 0 0 13.935]\n [47 1 1 0 13.093]\n [65 0 1 1 13.769]\n [16 1 0 1 19.007]\n [67 1 2 1 9.514]\n [23 1 1 0 7.298]\n [56 0 1 0 11.567]\n [68 0 0 1 10.189]\n [65 1 0 1 34.997]\n [39 0 1 1 22.697]\n [35 1 2 1 7.845]\n [64 1 0 1 20.932]\n [28 0 1 0 19.796]\n [56 1 1 0 15.015]\n [57 1 1 1 19.128]\n [39 1 1 1 13.938]\n [32 0 1 1 10.84]\n [36 0 2 0 16.753]\n [65 0 0 1 31.876]\n [41 1 1 0 11.037]\n [67 1 1 1 20.693]\n [23 1 2 1 14.02]\n [40 0 1 1 11.349]\n [53 1 1 0 22.963]\n [56 0 0 0 25.395]\n [50 1 0 0 7.49]\n [22 1 0 1 28.294]\n [18 0 0 1 24.276]\n [62 1 2 0 16.594]\n [32 0 2 0 7.477]\n [38 0 1 1 29.875]\n [47 1 1 0 10.114]\n [29 1 0 0 12.856]\n [49 1 0 1 8.7]\n [64 1 2 0 7.761]\n [31 1 0 0 30.366]\n [60 1 0 1 8.621]\n [57 0 2 0 14.216]\n [42 0 1 1 29.271]\n [39 0 2 1 17.225]\n [61 0 1 1 7.34]\n [58 0 1 0 26.645]\n [61 0 0 0 25.475]\n [22 1 1 0 8.151]\n [51 1 0 1 11.343]\n [20 0 0 0 11.262]\n [42 1 1 0 20.013]\n [26 0 0 1 12.307]\n [63 1 2 0 25.917]\n [23 0 0 0 25.355]\n [18 0 0 0 37.188]\n [52 1 1 1 32.922]\n [55 1 2 1 7.261]\n [22 1 2 0 11.953]]\n77     drugY\n73     drugY\n71     drugY\n78     drugA\n42     drugY\n       ...  \n0      drugY\n184    drugY\n131    drugY\n152    drugX\n106    drugX\nName: Drug, Length: 140, dtype: object\n",
          "output_type": "stream"
        }
      ]
    },
    {
      "cell_type": "markdown",
      "source": "<details><summary>Click here for the solution</summary>\n\n```python\nprint('Shape of X training set {}'.format(X_trainset.shape),'&',' Size of Y training set {}'.format(y_trainset.shape))\n\n```\n\n</details>\n\n",
      "metadata": {}
    },
    {
      "cell_type": "markdown",
      "source": "Print the shape of X_testset and y_testset. Ensure that the dimensions match.\n",
      "metadata": {}
    },
    {
      "cell_type": "code",
      "source": "# your code\n\n",
      "metadata": {},
      "execution_count": null,
      "outputs": []
    },
    {
      "cell_type": "markdown",
      "source": "<details><summary>Click here for the solution</summary>\n\n```python\nprint('Shape of X training set {}'.format(X_testset.shape),'&',' Size of Y training set {}'.format(y_testset.shape))\n\n```\n\n</details>\n\n",
      "metadata": {}
    },
    {
      "cell_type": "markdown",
      "source": "<hr>\n\n<div id=\"modeling\">\n    <h2>Modeling</h2>\n    We will first create an instance of the <b>DecisionTreeClassifier</b> called <b>drugTree</b>.<br>\n    Inside of the classifier, specify <i> criterion=\"entropy\" </i> so we can see the information gain of each node.\n</div>\n",
      "metadata": {}
    },
    {
      "cell_type": "code",
      "source": "drugTree = DecisionTreeClassifier(criterion=\"entropy\", max_depth = 4)\ndrugTree # it shows the default parameters",
      "metadata": {},
      "execution_count": null,
      "outputs": []
    },
    {
      "cell_type": "markdown",
      "source": "Next, we will fit the data with the training feature matrix <b> X_trainset </b> and training  response vector <b> y_trainset </b>\n",
      "metadata": {}
    },
    {
      "cell_type": "code",
      "source": "drugTree.fit(X_trainset,y_trainset)",
      "metadata": {},
      "execution_count": null,
      "outputs": []
    },
    {
      "cell_type": "markdown",
      "source": "<hr>\n\n<div id=\"prediction\">\n    <h2>Prediction</h2>\n    Let's make some <b>predictions</b> on the testing dataset and store it into a variable called <b>predTree</b>.\n</div>\n",
      "metadata": {}
    },
    {
      "cell_type": "code",
      "source": "predTree = drugTree.predict(X_testset)",
      "metadata": {},
      "execution_count": null,
      "outputs": []
    },
    {
      "cell_type": "markdown",
      "source": "You can print out <b>predTree</b> and <b>y_testset</b> if you want to visually compare the predictions to the actual values.\n",
      "metadata": {}
    },
    {
      "cell_type": "code",
      "source": "print (predTree [0:5])\nprint (y_testset [0:5])\n",
      "metadata": {},
      "execution_count": null,
      "outputs": []
    },
    {
      "cell_type": "markdown",
      "source": "<hr>\n\n<div id=\"evaluation\">\n    <h2>Evaluation</h2>\n    Next, let's import <b>metrics</b> from sklearn and check the accuracy of our model.\n</div>\n",
      "metadata": {}
    },
    {
      "cell_type": "code",
      "source": "from sklearn import metrics\nimport matplotlib.pyplot as plt\nprint(\"DecisionTrees's Accuracy: \", metrics.accuracy_score(y_testset, predTree))",
      "metadata": {},
      "execution_count": null,
      "outputs": []
    },
    {
      "cell_type": "markdown",
      "source": "__Accuracy classification score__ computes subset accuracy: the set of labels predicted for a sample must exactly match the corresponding set of labels in y_true.  \n\nIn multilabel classification, the function returns the subset accuracy. If the entire set of predicted labels for a sample strictly matches with the true set of labels, then the subset accuracy is 1.0; otherwise it is 0.0.\n",
      "metadata": {}
    },
    {
      "cell_type": "markdown",
      "source": "<hr>\n\n<div id=\"visualization\">\n    <h2>Visualization</h2>\n    \n    \nLet's visualize the tree\n</div>\n",
      "metadata": {}
    },
    {
      "cell_type": "code",
      "source": "# Notice: You might need to uncomment and install the pydotplus and graphviz libraries if you have not installed these before\n#!conda install -c conda-forge pydotplus -y\n#!conda install -c conda-forge python-graphviz -y",
      "metadata": {},
      "execution_count": null,
      "outputs": []
    },
    {
      "cell_type": "code",
      "source": "tree.plot_tree(drugTree)\nplt.show()",
      "metadata": {},
      "execution_count": null,
      "outputs": []
    },
    {
      "cell_type": "markdown",
      "source": "<h2>Want to learn more?</h2>\n\nIBM SPSS Modeler is a comprehensive analytics platform that has many machine learning algorithms. It has been designed to bring predictive intelligence to decisions made by individuals, by groups, by systems – by your enterprise as a whole. A free trial is available through this course, available here: <a href=\"https://www.ibm.com/analytics/spss-statistics-software?utm_medium=Exinfluencer&utm_source=Exinfluencer&utm_content=000026UJ&utm_term=10006555&utm_id=NA-SkillsNetwork-Channel-SkillsNetworkCoursesIBMDeveloperSkillsNetworkML0101ENSkillsNetwork1047-2023-01-01\">SPSS Modeler</a>\n\nAlso, you can use Watson Studio to run these notebooks faster with bigger datasets. Watson Studio is IBM's leading cloud solution for data scientists, built by data scientists. With Jupyter notebooks, RStudio, Apache Spark and popular libraries pre-packaged in the cloud, Watson Studio enables data scientists to collaborate on their projects without having to install anything. Join the fast-growing community of Watson Studio users today with a free account at <a href=\"https://www.ibm.com/cloud/watson-studio?utm_medium=Exinfluencer&utm_source=Exinfluencer&utm_content=000026UJ&utm_term=10006555&utm_id=NA-SkillsNetwork-Channel-SkillsNetworkCoursesIBMDeveloperSkillsNetworkML0101ENSkillsNetwork1047-2023-01-01\">Watson Studio</a>\n\n",
      "metadata": {}
    },
    {
      "cell_type": "markdown",
      "source": "### Thank you for completing this lab!\n\n\n## Author\n\nSaeed Aghabozorgi\n\n\n### Other Contributors\n\n<a href=\"https://www.linkedin.com/in/joseph-s-50398b136/?utm_medium=Exinfluencer&utm_source=Exinfluencer&utm_content=000026UJ&utm_term=10006555&utm_id=NA-SkillsNetwork-Channel-SkillsNetworkCoursesIBMDeveloperSkillsNetworkML0101ENSkillsNetwork1047-2023-01-01\">Joseph Santarcangelo</a>\n\n\n\n\n## Change Log\n\n\n|  Date (YYYY-MM-DD) |  Version | Changed By  |  Change Description |\n|---|---|---|---|\n| 2023-04-05  | 2.3  | Anita Verma   | Changed pandas.get_dummies() to LabelEncoder|\n| 2020-11-20  | 2.2  | Lakshmi  | Changed import statement of StringIO|\n| 2020-11-03  | 2.1  | Lakshmi  | Changed URL of the csv            |\n| 2020-08-27  | 2.0  | Lavanya  |  Moved lab to course repo in GitLab |\n|   |   |   |   |\n|   |   |   |   |\n\n\n## <h3 align=\"center\"> © IBM Corporation 2020. All rights reserved. <h3/>\n",
      "metadata": {}
    }
  ]
}